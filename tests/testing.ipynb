{
 "cells": [
  {
   "cell_type": "code",
   "execution_count": 11,
   "metadata": {},
   "outputs": [],
   "source": [
    "import numpy as np\n",
    "from typing import Iterable, Iterator\n",
    "import itertools as itr\n",
    "from aoclib import CArray\n",
    "\n",
    "raw_data = \"\"\"####    \n",
    "####    \n",
    "  ####  \n",
    "  ####  \n",
    "    ####\n",
    "    ####\n",
    "\"\"\"\n",
    "\n",
    "def display(data):\n",
    "     for d in data:\n",
    "          print(*d)\n"
   ]
  },
  {
   "cell_type": "code",
   "execution_count": 15,
   "metadata": {},
   "outputs": [
    {
     "name": "stdout",
     "output_type": "stream",
     "text": [
      "  A B C D          \n",
      "I # # # # E        \n",
      "J # # # # F E      \n",
      "  M N # # # # G    \n",
      "    M # # # # H G  \n",
      "      K L # # # # D\n",
      "        K # # # # C\n",
      "          J I A B  \n"
     ]
    }
   ],
   "source": [
    "atfoup = (-1,-1,-1),(0,1,0),(0,0,1)\n",
    "data = np.array([list(s) for s in raw_data.strip().split(\"\\n\")],dtype = \"<U1\")\n",
    "side = min(np.min(np.sum(data!=\" \",axis=ax)) for ax in (0,1))\n",
    "data = np.pad(data,1,mode = \"constant\", constant_values = \" \").view(CArray)\n",
    "disp_data=data.copy()\n",
    "z = 0+1j\n",
    "dz = 1j\n",
    "corners = {}\n",
    "trans = {}\n",
    "indices = []\n",
    "imax = ord(\"A\")\n",
    "for _ in range(14):\n",
    "     at,forward,up = np.array(atfoup)\n",
    "     zs = z+np.arange(side)*dz\n",
    "     next_ = tuple(at+2*forward)\n",
    "     if (key:=(tuple(at),next_)) in corners:\n",
    "          zs0,dz0 = corners[key]\n",
    "          trans.update({z0:(z1,dz/dz0) for z0,z1 in zip(zs0,zs-dz*1j)})\n",
    "          trans.update({z1:(z0,dz0/dz) for z0,z1 in zip(zs0-dz0*1j,zs)})\n",
    "          inds = indices[-side:][::-1]\n",
    "          indices = indices[:-side]\n",
    "     else:\n",
    "          corners[key[::-1]] = zs, dz\n",
    "          indices.extend(inds:=imax+np.arange(side))\n",
    "          imax+=side\n",
    "     chrs = [chr(i) for i in inds]\n",
    "     disp_data[zs]=chrs\n",
    "     \n",
    "     turn_right = data[z+(side-1j)*dz] == \" \"\n",
    "     go_forward = data[z+side*dz] == \" \"\n",
    "     at += 2*forward\n",
    "     if turn_right:\n",
    "          forward = np.cross(forward, up)\n",
    "          z += (side-1j)*dz\n",
    "          dz *= -1j\n",
    "     elif go_forward:\n",
    "          s = at@up\n",
    "          forward,up = -s*up,s*forward\n",
    "          z += side*dz\n",
    "     else:\n",
    "          up = np.cross(forward,up)\n",
    "          forward = -forward\n",
    "          z += (side-1)*dz\n",
    "          dz *= 1j\n",
    "     atfoup = at,forward,up\n",
    "\n",
    "display(disp_data)"
   ]
  },
  {
   "cell_type": "code",
   "execution_count": null,
   "metadata": {},
   "outputs": [],
   "source": []
  }
 ],
 "metadata": {
  "kernelspec": {
   "display_name": ".venv",
   "language": "python",
   "name": "python3"
  },
  "language_info": {
   "codemirror_mode": {
    "name": "ipython",
    "version": 3
   },
   "file_extension": ".py",
   "mimetype": "text/x-python",
   "name": "python",
   "nbconvert_exporter": "python",
   "pygments_lexer": "ipython3",
   "version": "3.10.8"
  },
  "orig_nbformat": 4,
  "vscode": {
   "interpreter": {
    "hash": "7e386ab1e56fe566cd369da7fdadd2ec9d281b30e105cab04818ff91b6c596d5"
   }
  }
 },
 "nbformat": 4,
 "nbformat_minor": 2
}
